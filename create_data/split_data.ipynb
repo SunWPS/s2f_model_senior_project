{
 "cells": [
  {
   "cell_type": "code",
   "execution_count": 1,
   "id": "28575910-425b-4fd9-a12d-3addd8aa1f8a",
   "metadata": {},
   "outputs": [],
   "source": [
    "import h5py\n",
    "import numpy as np\n",
    "import cv2\n",
    "import IPython"
   ]
  },
  {
   "cell_type": "code",
   "execution_count": null,
   "id": "2237f726-7ca9-49be-949e-ec5c7913bb7b",
   "metadata": {},
   "outputs": [],
   "source": [
    "files = h5py.File(\"data/4_images.h5\", \"r\")\n",
    "\n",
    "images = np.array(files['/images']).astype('uint8')\n",
    "sketches = np.array(files['/sketches']).astype('uint8')\n",
    "\n",
    "n = len(images)//5000\n",
    "a=np.array_split(images, n)\n",
    "b=np.array_split(sketches, n)\n",
    "\n",
    "\n",
    "start=22\n",
    "for i in range(len(a)):\n",
    "    file = h5py.File(\"data_split/\"+str(i+start)+\"_images.h5\", \"w\")\n",
    "    real_images = file.create_dataset(\n",
    "        \"images\", np.shape(a[i]), h5py.h5t.STD_U8BE, data=a[i]\n",
    "    )\n",
    "    sketches_images = file.create_dataset(\n",
    "        \"sketches\", np.shape(b[i]), h5py.h5t.STD_U8BE, data=b[i]\n",
    "    )\n",
    "    file.close()\n",
    "    \n",
    "    \n",
    "    "
   ]
  },
  {
   "cell_type": "code",
   "execution_count": null,
   "id": "ea0c07a8-1a24-4a19-994f-f4b111473d3b",
   "metadata": {},
   "outputs": [],
   "source": []
  }
 ],
 "metadata": {
  "environment": {
   "kernel": "python3",
   "name": "tf2-gpu.2-8.m98",
   "type": "gcloud",
   "uri": "gcr.io/deeplearning-platform-release/tf2-gpu.2-8:m98"
  },
  "kernelspec": {
   "display_name": "Python 3",
   "language": "python",
   "name": "python3"
  },
  "language_info": {
   "codemirror_mode": {
    "name": "ipython",
    "version": 3
   },
   "file_extension": ".py",
   "mimetype": "text/x-python",
   "name": "python",
   "nbconvert_exporter": "python",
   "pygments_lexer": "ipython3",
   "version": "3.7.12"
  }
 },
 "nbformat": 4,
 "nbformat_minor": 5
}
